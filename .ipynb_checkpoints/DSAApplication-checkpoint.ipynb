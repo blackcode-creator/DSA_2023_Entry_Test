{
 "cells": [
  {
   "cell_type": "markdown",
   "metadata": {},
   "source": [
    "DSA 2023 Summer School Admittance Check"
   ]
  },
  {
   "cell_type": "markdown",
   "metadata": {},
   "source": [
    "Question 1: Write a Python function to return a tuple of primes and non primes given an integer input"
   ]
  },
  {
   "cell_type": "code",
   "execution_count": null,
   "metadata": {},
   "outputs": [],
   "source": [
    "def sieve(num):\n",
    "    # initialize a list of all numbers from 2 to num\n",
    "    numbers = list(range(2, num+1))\n",
    "    # initialize empty lists to store prime and non-prime numbers\n",
    "    primes = []\n",
    "    non_primes = []\n",
    "    # loop through the list of numbers\n",
    "    while len(numbers) > 0:\n",
    "        # remove the first number from the list\n",
    "        current = numbers.pop(0)\n",
    "        # check if the number is already marked as non-prime\n",
    "        if current in non_primes:\n",
    "            continue\n",
    "        # add the number to the list of primes\n",
    "        primes.append(current)\n",
    "        # remove all multiples of the number from the list of numbers\n",
    "        for i in range(len(numbers)):\n",
    "            if numbers[i] % current == 0:\n",
    "                non_primes.append(numbers[i])\n",
    "                numbers[i] = 0\n",
    "        numbers = [n for n in numbers if n != 0]\n",
    "    return tuple(primes), tuple(non_primes)\n",
    "\n",
    "num = 30\n",
    "print(\"Following are the prime and non prime numbers smaller than or equal to\", num)\n",
    "print(sieve(num))"
   ]
  },
  {
   "cell_type": "markdown",
   "metadata": {},
   "source": [
    "Question 2: Create a dictionary to store the type and number of unique characters in the paragraph provided"
   ]
  },
  {
   "cell_type": "code",
   "execution_count": null,
   "metadata": {},
   "outputs": [],
   "source": [
    "from collections import Counter\n",
    "\n",
    "paragraph = \"The following is sample text I used to practice special characters using keybr.com: 112233445566778899 Saturn V rocket’s first stage carries 203,400 gallons (770,000 liters) of kerosene fuel and 318,000 gallons (1.2 million liters) of liquid oxygen needed for combustion. At liftoff, the stage’s five F-1 rocket engines ignite and produce 7.5 million pounds of thrust. To replace those goofy quantities with the far less retarded metric system (even though liters are considered part of the metric system they are the same as cubic deci-meters) you would say 770 cubic meters of kerosene {abbreviated as m3} and 1,204 m3 of liquid O2 [O2 is the symbol for oxygen]. We would also say it produced 33,600,000 newtons of force <abbreviated as N>. To add scientific notation {a way of writing numbers that allows you to write only as many digits `of specificity` as you would like} you can write 7.7 * 10 ^ 2 m3 of kerosene 1.204 * 10 ^ 3 m3 of O2 and 3.3 * 10 ^ 7 newtons. Another way to write scientific notation is to replace the “* 10 ^” with ‘E’ -/capital e\\-. So our numbers would look like:s\"\n",
    "\n",
    "char_counts = Counter(paragraph)\n",
    "\n",
    "print(char_counts)"
   ]
  },
  {
   "cell_type": "markdown",
   "metadata": {},
   "source": [
    "Question 3: Extract the values from the dictionary above into a list"
   ]
  },
  {
   "cell_type": "code",
   "execution_count": null,
   "metadata": {},
   "outputs": [],
   "source": [
    "char_counts = Counter(paragraph)\n",
    "keys_list = list(char_counts.keys())\n",
    "\n",
    "print(keys_list)\n"
   ]
  },
  {
   "cell_type": "markdown",
   "metadata": {},
   "source": [
    "Question 4: Extract the keys from the dictionary above into a list"
   ]
  },
  {
   "cell_type": "code",
   "execution_count": null,
   "metadata": {},
   "outputs": [],
   "source": [
    "char_counts = Counter(paragraph)\n",
    "values_list = list(char_counts.values())\n",
    "\n",
    "print(values_list)"
   ]
  },
  {
   "cell_type": "markdown",
   "metadata": {},
   "source": [
    "Question 5: Merge the two lists into a tuple"
   ]
  },
  {
   "cell_type": "code",
   "execution_count": null,
   "metadata": {},
   "outputs": [],
   "source": [
    "char_counts = Counter(paragraph)\n",
    "keys_list = list(char_counts.keys())\n",
    "values_list = list(char_counts.values())\n",
    "\n",
    "merged_tuple = tuple(zip(keys_list, values_list))\n",
    "\n",
    "print(merged_tuple)"
   ]
  },
  {
   "cell_type": "markdown",
   "metadata": {},
   "source": [
    "Question 6: Write a function greatest_common_divisor that takes two inputs a and b and returns the greatest common divisor of the two numbers. E.g. input (10, 15) would return 5"
   ]
  },
  {
   "cell_type": "code",
   "execution_count": null,
   "metadata": {},
   "outputs": [],
   "source": [
    "def greatest_common_divisor(a, b):\n",
    "\n",
    "    if a == 0:\n",
    "        return b\n",
    "    elif b == 0:\n",
    "        return a\n",
    "\n",
    "    p = 0\n",
    "    while ((a | b) & 1) == 0:\n",
    "        a >>= 1\n",
    "        b >>= 1\n",
    "        p += 1\n",
    "    \n",
    "    while (a & 1) == 0:\n",
    "        a >>= 1\n",
    "    \n",
    "    while b != 0:\n",
    "        while (b & 1) == 0:\n",
    "            b >>= 1\n",
    "        if a > b:\n",
    "            a, b = b, a\n",
    "        b -= a\n",
    "    \n",
    "    return a << p\n",
    "\n",
    "print(greatest_common_divisor(12, 17))\n",
    "print(greatest_common_divisor(4, 6))\n",
    "print(greatest_common_divisor(336, 360))"
   ]
  },
  {
   "cell_type": "markdown",
   "metadata": {},
   "source": [
    "Question 7: Write a function get_nearest_farthest that takes in a point of interest (pt) and a list of points and returns the nearest point and the farthest point from the point of intest"
   ]
  },
  {
   "cell_type": "code",
   "execution_count": null,
   "metadata": {},
   "outputs": [],
   "source": [
    "import math\n",
    "\n",
    "def get_nearest_farthest(pt, points):\n",
    "\n",
    "    distances = [math.sqrt((p[0]-pt[0])**2 + (p[1]-pt[1])**2) for p in points]\n",
    "    nearest_idx = distances.index(min(distances))\n",
    "    farthest_idx = distances.index(max(distances))\n",
    "    return points[nearest_idx], points[farthest_idx]\n",
    "\n",
    "print(get_nearest_farthest((3, 8), [(9, 3), (8,5), (7,6)]))\n",
    "print(get_nearest_farthest((12,8), [(5,9), (9,1), (2,4), (13,9), (10,12)]))"
   ]
  },
  {
   "cell_type": "markdown",
   "metadata": {},
   "source": [
    "Question 8: Write a function perfectly_divisible to return a list of numbers between 0 and a number  N  that are perfectly divisible by  q  (with out leaving a remainder).\n",
    "Hint:  N  should also be inclusive in the numbers being considered. If N is negative use N == 20"
   ]
  },
  {
   "cell_type": "code",
   "execution_count": null,
   "metadata": {},
   "outputs": [],
   "source": [
    "def perfectly_divisible(N, q):\n",
    "\n",
    "#Returns a list of numbers between 0 and N that are perfectly divisible by q.\n",
    "    divisible_numbers = list(range(0, N+1, q))\n",
    "    return divisible_numbers\n",
    "\n",
    "print(perfectly_divisible(10,2))"
   ]
  },
  {
   "cell_type": "markdown",
   "metadata": {},
   "source": [
    "Question 9: Write a function flatten_lists that takes in a list of lists and outputs a sorted list of elements of sublists of the input list (confusing right?)\n",
    "Example: given flatten_lists([[2,13,44], [6,7]]) it should return [2,6,7,13,44]"
   ]
  },
  {
   "cell_type": "code",
   "execution_count": null,
   "metadata": {},
   "outputs": [],
   "source": [
    "def flatten_lists(lists):\n",
    "\n",
    "    flat_list = []\n",
    "    for sublist in lists:\n",
    "        for element in sublist:\n",
    "            flat_list.append(element)\n",
    "    return sorted(flat_list)\n",
    "\n",
    "print(flatten_lists([[2,13,44], [6,7]]))"
   ]
  },
  {
   "cell_type": "markdown",
   "metadata": {},
   "source": [
    "Download the dataset \"Nakuru Sensor Data for February 2023 from https://open.africa/dataset/sensorsafrica-airquality-archive-nakuru/resource/14165682-37dd-4f40-914e-eb24619e4ef8\"\n",
    "\n",
    "Load the 'timestamp','value_type' and 'value' collumns into a pandas dataframe"
   ]
  },
  {
   "cell_type": "code",
   "execution_count": 2,
   "metadata": {},
   "outputs": [
    {
     "name": "stdout",
     "output_type": "stream",
     "text": [
      "  sensor_id sensor_type location     lat     lon  \\\n",
      "0       145       DHT22     3528  -0.286  36.067   \n",
      "1       145       DHT22     3528  -0.286  36.067   \n",
      "2       144      SDS011     3528  -0.286  36.067   \n",
      "3       144      SDS011     3528  -0.286  36.067   \n",
      "4       145       DHT22     3528  -0.286  36.067   \n",
      "\n",
      "                          timestamp   value_type value  \n",
      "0  2023-02-04T04:22:51.323124+00:00     humidity   100  \n",
      "1  2023-02-04T04:22:51.323124+00:00  temperature    12  \n",
      "2  2023-02-04T04:22:51.323125+00:00           P2    27  \n",
      "3  2023-02-04T04:22:51.323125+00:00           P1    59  \n",
      "4  2023-02-04T04:25:32.354784+00:00     humidity   100  \n"
     ]
    }
   ],
   "source": [
    "# load dependencies\n",
    "import pandas as pd\n",
    "\n",
    "df = pd.read_csv('C:/Users/HP/Desktop/DSAjoe/february_2023_sensor.csv')\n",
    "\n",
    "column_split = df['sensor_id;sensor_type;location;lat;lon;timestamp;value_type;value'].str.split(pat=';',expand=True)\n",
    "column_split.columns = ['sensor_id','sensor_type','location','lat','lon','timestamp','value_type','value']\n",
    "\n",
    "df=pd.concat([df,column_split],axis=1)\n",
    "\n",
    "df = df.drop('sensor_id;sensor_type;location;lat;lon;timestamp;value_type;value',axis=1)\n",
    "\n",
    "print(df.head())"
   ]
  },
  {
   "cell_type": "markdown",
   "metadata": {},
   "source": [
    "Question E1: Create a new collumn 'timestamp_new' from 'timestamp' rounded off to the second"
   ]
  },
  {
   "cell_type": "code",
   "execution_count": 3,
   "metadata": {},
   "outputs": [],
   "source": [
    "df['timestamp'] = pd.to_datetime(df['timestamp'], infer_datetime_format=True)\n",
    "df['timestamp_new'] = df['timestamp'].dt.floor('S')"
   ]
  },
  {
   "cell_type": "markdown",
   "metadata": {},
   "source": [
    "Question E2: Split the dataframe based on the 'value_type' collumn"
   ]
  },
  {
   "cell_type": "code",
   "execution_count": 4,
   "metadata": {},
   "outputs": [
    {
     "name": "stdout",
     "output_type": "stream",
     "text": [
      "   sensor_id sensor_type location     lat     lon  \\\n",
      "1        145       DHT22     3528  -0.286  36.067   \n",
      "5        145       DHT22     3528  -0.286  36.067   \n",
      "11       145       DHT22     3528  -0.286  36.067   \n",
      "13       145       DHT22     3528  -0.286  36.067   \n",
      "17       145       DHT22     3528  -0.286  36.067   \n",
      "\n",
      "                          timestamp   value_type value  \\\n",
      "1  2023-02-04 04:22:51.323124+00:00  temperature    12   \n",
      "5  2023-02-04 04:25:32.354784+00:00  temperature    11   \n",
      "11 2023-02-04 04:28:12.716734+00:00  temperature    12   \n",
      "13 2023-02-04 04:30:52.437513+00:00  temperature    12   \n",
      "17 2023-02-04 04:33:32.677578+00:00  temperature    12   \n",
      "\n",
      "               timestamp_new  \n",
      "1  2023-02-04 04:22:51+00:00  \n",
      "5  2023-02-04 04:25:32+00:00  \n",
      "11 2023-02-04 04:28:12+00:00  \n",
      "13 2023-02-04 04:30:52+00:00  \n",
      "17 2023-02-04 04:33:32+00:00  \n"
     ]
    }
   ],
   "source": [
    "grouped = df.groupby(df.value_type) \n",
    "df_temperature = grouped.get_group(\"temperature\") \n",
    "df_humidity = grouped.get_group(\"humidity\") \n",
    "df_P1 = grouped.get_group(\"P1\") \n",
    "df_P2 = grouped.get_group(\"P2\") \n",
    "print(df_temperature.head())"
   ]
  },
  {
   "cell_type": "markdown",
   "metadata": {},
   "source": [
    "Question E3: Find the mean, mode and median of the humidity, temperature, P1 and P2 values"
   ]
  },
  {
   "cell_type": "code",
   "execution_count": 5,
   "metadata": {},
   "outputs": [
    {
     "name": "stderr",
     "output_type": "stream",
     "text": [
      "C:\\Users\\HP\\AppData\\Local\\Temp\\ipykernel_18032\\4291358308.py:2: SettingWithCopyWarning: \n",
      "A value is trying to be set on a copy of a slice from a DataFrame.\n",
      "Try using .loc[row_indexer,col_indexer] = value instead\n",
      "\n",
      "See the caveats in the documentation: https://pandas.pydata.org/pandas-docs/stable/user_guide/indexing.html#returning-a-view-versus-a-copy\n",
      "  df_temperature['value'] = pd.to_numeric(df_temperature['value'])\n",
      "C:\\Users\\HP\\AppData\\Local\\Temp\\ipykernel_18032\\4291358308.py:3: SettingWithCopyWarning: \n",
      "A value is trying to be set on a copy of a slice from a DataFrame.\n",
      "Try using .loc[row_indexer,col_indexer] = value instead\n",
      "\n",
      "See the caveats in the documentation: https://pandas.pydata.org/pandas-docs/stable/user_guide/indexing.html#returning-a-view-versus-a-copy\n",
      "  df_humidity['value'] = pd.to_numeric(df_humidity['value'])\n",
      "C:\\Users\\HP\\AppData\\Local\\Temp\\ipykernel_18032\\4291358308.py:4: SettingWithCopyWarning: \n",
      "A value is trying to be set on a copy of a slice from a DataFrame.\n",
      "Try using .loc[row_indexer,col_indexer] = value instead\n",
      "\n",
      "See the caveats in the documentation: https://pandas.pydata.org/pandas-docs/stable/user_guide/indexing.html#returning-a-view-versus-a-copy\n",
      "  df_P1['value'] = pd.to_numeric(df_P1['value'])\n",
      "C:\\Users\\HP\\AppData\\Local\\Temp\\ipykernel_18032\\4291358308.py:5: SettingWithCopyWarning: \n",
      "A value is trying to be set on a copy of a slice from a DataFrame.\n",
      "Try using .loc[row_indexer,col_indexer] = value instead\n",
      "\n",
      "See the caveats in the documentation: https://pandas.pydata.org/pandas-docs/stable/user_guide/indexing.html#returning-a-view-versus-a-copy\n",
      "  df_P2['value'] = pd.to_numeric(df_P2['value'])\n"
     ]
    }
   ],
   "source": [
    "# convert value column to numeric data type\n",
    "df_temperature['value'] = pd.to_numeric(df_temperature['value'])\n",
    "df_humidity['value'] = pd.to_numeric(df_humidity['value'])\n",
    "df_P1['value'] = pd.to_numeric(df_P1['value'])\n",
    "df_P2['value'] = pd.to_numeric(df_P2['value'])\n",
    "\n",
    "# compute median of value column\n",
    "median_temp = df_temperature['value'].median()\n",
    "median_humidity = df_humidity['value'].median()\n",
    "median_P1 = df_P1['value'].median()\n",
    "median_P2 = df_P2['value'].median()\n",
    "\n",
    "# compute mode of value column\n",
    "mode_temp = df_temperature['value'].mode()[0]\n",
    "mode_humidity = df_humidity['value'].mode()[0]\n",
    "mode_P1 = df_P1['value'].mode()[0]\n",
    "mode_P2 = df_P2['value'].mode()[0]\n",
    "\n",
    "# compute mean of value column\n",
    "mean_temp = df_temperature['value'].mean()\n",
    "mean_humidity = df_humidity['value'].mean()\n",
    "mean_P1 = df_P1['value'].mean()\n",
    "mean_P2 = df_P2['value'].mean()\n"
   ]
  },
  {
   "cell_type": "markdown",
   "metadata": {},
   "source": [
    "Question E4: Merge the grouped dataframes into one dataframe and save it as newdata.csv"
   ]
  },
  {
   "cell_type": "code",
   "execution_count": 6,
   "metadata": {},
   "outputs": [],
   "source": [
    "df_merged = df_temperature.merge(df_humidity,how='left', on='timestamp_new',suffixes=('_temperature', '_humidity'))\n",
    "df_merged = df_merged.merge(df_P1,how='left', on='timestamp_new',suffixes=('_prev', '_P1'))\n",
    "df_merged = df_merged.merge(df_P2,how='left', on='timestamp_new',suffixes=('_P1', '_P2'))\n",
    "\n",
    "df_merged.to_csv('newdata.csv', index=False)"
   ]
  },
  {
   "cell_type": "markdown",
   "metadata": {},
   "source": [
    "Question E5: Open the new data file and select only 'timestamp_new','value_temperature','value_humidity','value_P1' and 'value_P2' collunms"
   ]
  },
  {
   "cell_type": "code",
   "execution_count": 8,
   "metadata": {},
   "outputs": [
    {
     "data": {
      "text/html": [
       "<div>\n",
       "<style scoped>\n",
       "    .dataframe tbody tr th:only-of-type {\n",
       "        vertical-align: middle;\n",
       "    }\n",
       "\n",
       "    .dataframe tbody tr th {\n",
       "        vertical-align: top;\n",
       "    }\n",
       "\n",
       "    .dataframe thead th {\n",
       "        text-align: right;\n",
       "    }\n",
       "</style>\n",
       "<table border=\"1\" class=\"dataframe\">\n",
       "  <thead>\n",
       "    <tr style=\"text-align: right;\">\n",
       "      <th></th>\n",
       "      <th>value_temperature</th>\n",
       "      <th>timestamp_new</th>\n",
       "      <th>value_humidity</th>\n",
       "      <th>value_P1</th>\n",
       "      <th>value_P2</th>\n",
       "    </tr>\n",
       "  </thead>\n",
       "  <tbody>\n",
       "    <tr>\n",
       "      <th>0</th>\n",
       "      <td>12</td>\n",
       "      <td>2023-02-04 04:22:51+00:00</td>\n",
       "      <td>100</td>\n",
       "      <td>59.0</td>\n",
       "      <td>27.0</td>\n",
       "    </tr>\n",
       "    <tr>\n",
       "      <th>1</th>\n",
       "      <td>11</td>\n",
       "      <td>2023-02-04 04:25:32+00:00</td>\n",
       "      <td>100</td>\n",
       "      <td>51.0</td>\n",
       "      <td>27.0</td>\n",
       "    </tr>\n",
       "    <tr>\n",
       "      <th>2</th>\n",
       "      <td>12</td>\n",
       "      <td>2023-02-04 04:28:12+00:00</td>\n",
       "      <td>100</td>\n",
       "      <td>56.0</td>\n",
       "      <td>23.0</td>\n",
       "    </tr>\n",
       "    <tr>\n",
       "      <th>3</th>\n",
       "      <td>12</td>\n",
       "      <td>2023-02-04 04:30:52+00:00</td>\n",
       "      <td>100</td>\n",
       "      <td>56.0</td>\n",
       "      <td>25.0</td>\n",
       "    </tr>\n",
       "    <tr>\n",
       "      <th>4</th>\n",
       "      <td>12</td>\n",
       "      <td>2023-02-04 04:33:32+00:00</td>\n",
       "      <td>100</td>\n",
       "      <td>117.0</td>\n",
       "      <td>31.0</td>\n",
       "    </tr>\n",
       "    <tr>\n",
       "      <th>...</th>\n",
       "      <td>...</td>\n",
       "      <td>...</td>\n",
       "      <td>...</td>\n",
       "      <td>...</td>\n",
       "      <td>...</td>\n",
       "    </tr>\n",
       "    <tr>\n",
       "      <th>10741</th>\n",
       "      <td>26</td>\n",
       "      <td>2023-02-24 07:43:55+00:00</td>\n",
       "      <td>60</td>\n",
       "      <td>0.0</td>\n",
       "      <td>0.0</td>\n",
       "    </tr>\n",
       "    <tr>\n",
       "      <th>10742</th>\n",
       "      <td>26</td>\n",
       "      <td>2023-02-24 07:46:35+00:00</td>\n",
       "      <td>60</td>\n",
       "      <td>7.0</td>\n",
       "      <td>7.0</td>\n",
       "    </tr>\n",
       "    <tr>\n",
       "      <th>10743</th>\n",
       "      <td>26</td>\n",
       "      <td>2023-02-24 07:49:15+00:00</td>\n",
       "      <td>59</td>\n",
       "      <td>1.0</td>\n",
       "      <td>1.0</td>\n",
       "    </tr>\n",
       "    <tr>\n",
       "      <th>10744</th>\n",
       "      <td>27</td>\n",
       "      <td>2023-02-24 07:51:55+00:00</td>\n",
       "      <td>59</td>\n",
       "      <td>0.0</td>\n",
       "      <td>0.0</td>\n",
       "    </tr>\n",
       "    <tr>\n",
       "      <th>10745</th>\n",
       "      <td>27</td>\n",
       "      <td>2023-02-24 07:54:35+00:00</td>\n",
       "      <td>59</td>\n",
       "      <td>0.0</td>\n",
       "      <td>0.0</td>\n",
       "    </tr>\n",
       "  </tbody>\n",
       "</table>\n",
       "<p>10746 rows × 5 columns</p>\n",
       "</div>"
      ],
      "text/plain": [
       "       value_temperature              timestamp_new  value_humidity  value_P1  \\\n",
       "0                     12  2023-02-04 04:22:51+00:00             100      59.0   \n",
       "1                     11  2023-02-04 04:25:32+00:00             100      51.0   \n",
       "2                     12  2023-02-04 04:28:12+00:00             100      56.0   \n",
       "3                     12  2023-02-04 04:30:52+00:00             100      56.0   \n",
       "4                     12  2023-02-04 04:33:32+00:00             100     117.0   \n",
       "...                  ...                        ...             ...       ...   \n",
       "10741                 26  2023-02-24 07:43:55+00:00              60       0.0   \n",
       "10742                 26  2023-02-24 07:46:35+00:00              60       7.0   \n",
       "10743                 26  2023-02-24 07:49:15+00:00              59       1.0   \n",
       "10744                 27  2023-02-24 07:51:55+00:00              59       0.0   \n",
       "10745                 27  2023-02-24 07:54:35+00:00              59       0.0   \n",
       "\n",
       "       value_P2  \n",
       "0          27.0  \n",
       "1          27.0  \n",
       "2          23.0  \n",
       "3          25.0  \n",
       "4          31.0  \n",
       "...         ...  \n",
       "10741       0.0  \n",
       "10742       7.0  \n",
       "10743       1.0  \n",
       "10744       0.0  \n",
       "10745       0.0  \n",
       "\n",
       "[10746 rows x 5 columns]"
      ]
     },
     "execution_count": 8,
     "metadata": {},
     "output_type": "execute_result"
    }
   ],
   "source": [
    "df2 = pd.read_csv('newdata.csv',usecols=['timestamp_new','value_temperature','value_humidity','value_P1','value_P2'])\n",
    "df2"
   ]
  },
  {
   "cell_type": "markdown",
   "metadata": {},
   "source": [
    "Question E6: Replace the missing values in collumns 'value_P1' and 'value_P2' with the mean of the same collumns"
   ]
  },
  {
   "cell_type": "code",
   "execution_count": 10,
   "metadata": {},
   "outputs": [
    {
     "data": {
      "text/html": [
       "<div>\n",
       "<style scoped>\n",
       "    .dataframe tbody tr th:only-of-type {\n",
       "        vertical-align: middle;\n",
       "    }\n",
       "\n",
       "    .dataframe tbody tr th {\n",
       "        vertical-align: top;\n",
       "    }\n",
       "\n",
       "    .dataframe thead th {\n",
       "        text-align: right;\n",
       "    }\n",
       "</style>\n",
       "<table border=\"1\" class=\"dataframe\">\n",
       "  <thead>\n",
       "    <tr style=\"text-align: right;\">\n",
       "      <th></th>\n",
       "      <th>value_temperature</th>\n",
       "      <th>timestamp_new</th>\n",
       "      <th>value_humidity</th>\n",
       "      <th>value_P1</th>\n",
       "      <th>value_P2</th>\n",
       "    </tr>\n",
       "  </thead>\n",
       "  <tbody>\n",
       "  </tbody>\n",
       "</table>\n",
       "</div>"
      ],
      "text/plain": [
       "Empty DataFrame\n",
       "Columns: [value_temperature, timestamp_new, value_humidity, value_P1, value_P2]\n",
       "Index: []"
      ]
     },
     "execution_count": 10,
     "metadata": {},
     "output_type": "execute_result"
    }
   ],
   "source": [
    "missing_values = pd.isnull(df2['value_P1']) \n",
    "\n",
    "df2['value_P1'].fillna(df2['value_P1'].mean(), inplace=True) \n",
    "df2['value_P2'].fillna(df2['value_P2'].mean(), inplace=True) \n",
    "\n",
    "missing_values = pd.isnull(df2['value_P2'])\n",
    "\n",
    "df2[missing_values] "
   ]
  },
  {
   "cell_type": "markdown",
   "metadata": {},
   "source": [
    "Question E7: Compute the correlations between temperature and humidity; P1 and P2"
   ]
  },
  {
   "cell_type": "code",
   "execution_count": 11,
   "metadata": {},
   "outputs": [
    {
     "name": "stdout",
     "output_type": "stream",
     "text": [
      "Correlation between P1 and P2 0.8734801215476381\n",
      "Correlation between temparature and humidity -0.9028239849182673\n"
     ]
    }
   ],
   "source": [
    "corr_temp_humidity = df2['value_temperature'].corr(df2['value_humidity'])\n",
    "corr_p1_p2 = df2['value_P1'].corr(df2['value_P2'])\n",
    "\n",
    "print (\"Correlation between P1 and P2\",corr_p1_p2)\n",
    "print (\"Correlation between temparature and humidity\",corr_temp_humidity)"
   ]
  },
  {
   "cell_type": "markdown",
   "metadata": {},
   "source": [
    "Question E8: Create a new dataframe comprising of the average values of the variables by day"
   ]
  },
  {
   "cell_type": "code",
   "execution_count": 13,
   "metadata": {},
   "outputs": [
    {
     "data": {
      "text/html": [
       "<div>\n",
       "<style scoped>\n",
       "    .dataframe tbody tr th:only-of-type {\n",
       "        vertical-align: middle;\n",
       "    }\n",
       "\n",
       "    .dataframe tbody tr th {\n",
       "        vertical-align: top;\n",
       "    }\n",
       "\n",
       "    .dataframe thead th {\n",
       "        text-align: right;\n",
       "    }\n",
       "</style>\n",
       "<table border=\"1\" class=\"dataframe\">\n",
       "  <thead>\n",
       "    <tr style=\"text-align: right;\">\n",
       "      <th></th>\n",
       "      <th>value_temperature</th>\n",
       "      <th>value_humidity</th>\n",
       "      <th>value_P1</th>\n",
       "      <th>value_P2</th>\n",
       "    </tr>\n",
       "    <tr>\n",
       "      <th>timestamp_new</th>\n",
       "      <th></th>\n",
       "      <th></th>\n",
       "      <th></th>\n",
       "      <th></th>\n",
       "    </tr>\n",
       "  </thead>\n",
       "  <tbody>\n",
       "    <tr>\n",
       "      <th>2023-02-04 00:00:00+00:00</th>\n",
       "      <td>22.312783</td>\n",
       "      <td>62.269231</td>\n",
       "      <td>22.261655</td>\n",
       "      <td>7.998801</td>\n",
       "    </tr>\n",
       "    <tr>\n",
       "      <th>2023-02-05 00:00:00+00:00</th>\n",
       "      <td>22.171759</td>\n",
       "      <td>68.225926</td>\n",
       "      <td>28.545665</td>\n",
       "      <td>12.723529</td>\n",
       "    </tr>\n",
       "    <tr>\n",
       "      <th>2023-02-06 00:00:00+00:00</th>\n",
       "      <td>22.223562</td>\n",
       "      <td>61.916048</td>\n",
       "      <td>35.875720</td>\n",
       "      <td>13.835411</td>\n",
       "    </tr>\n",
       "    <tr>\n",
       "      <th>2023-02-07 00:00:00+00:00</th>\n",
       "      <td>22.747227</td>\n",
       "      <td>65.021719</td>\n",
       "      <td>33.383922</td>\n",
       "      <td>13.310616</td>\n",
       "    </tr>\n",
       "    <tr>\n",
       "      <th>2023-02-08 00:00:00+00:00</th>\n",
       "      <td>22.932282</td>\n",
       "      <td>62.166976</td>\n",
       "      <td>26.097481</td>\n",
       "      <td>9.938813</td>\n",
       "    </tr>\n",
       "    <tr>\n",
       "      <th>2023-02-09 00:00:00+00:00</th>\n",
       "      <td>18.371345</td>\n",
       "      <td>74.260234</td>\n",
       "      <td>2.217649</td>\n",
       "      <td>0.977087</td>\n",
       "    </tr>\n",
       "  </tbody>\n",
       "</table>\n",
       "</div>"
      ],
      "text/plain": [
       "                           value_temperature  value_humidity   value_P1  \\\n",
       "timestamp_new                                                             \n",
       "2023-02-04 00:00:00+00:00          22.312783       62.269231  22.261655   \n",
       "2023-02-05 00:00:00+00:00          22.171759       68.225926  28.545665   \n",
       "2023-02-06 00:00:00+00:00          22.223562       61.916048  35.875720   \n",
       "2023-02-07 00:00:00+00:00          22.747227       65.021719  33.383922   \n",
       "2023-02-08 00:00:00+00:00          22.932282       62.166976  26.097481   \n",
       "2023-02-09 00:00:00+00:00          18.371345       74.260234   2.217649   \n",
       "\n",
       "                            value_P2  \n",
       "timestamp_new                         \n",
       "2023-02-04 00:00:00+00:00   7.998801  \n",
       "2023-02-05 00:00:00+00:00  12.723529  \n",
       "2023-02-06 00:00:00+00:00  13.835411  \n",
       "2023-02-07 00:00:00+00:00  13.310616  \n",
       "2023-02-08 00:00:00+00:00   9.938813  \n",
       "2023-02-09 00:00:00+00:00   0.977087  "
      ]
     },
     "execution_count": 13,
     "metadata": {},
     "output_type": "execute_result"
    }
   ],
   "source": [
    "df2['timestamp_new'] = pd.to_datetime(df['timestamp_new'], infer_datetime_format=True) \n",
    "df2['timestamp_new'] = df['timestamp_new'].dt.floor('D')  \n",
    "\n",
    "means_feb = df2.groupby('timestamp_new').mean() \n",
    "means_feb"
   ]
  },
  {
   "cell_type": "markdown",
   "metadata": {},
   "source": [
    "Question E9: Download the dataset \"Nakuru Sensor Data for November 2021 from https://open.africa/dataset/sensorsafrica-airquality-archive-nakuru/resource/1f11351e-156b-4e4c-a063-b86a6ee07c4a\"\n",
    "\n",
    "Load the data into a pandas dataframe and develop a dataframe similar to what you have just done in Question no's 6 - 13 above"
   ]
  },
  {
   "cell_type": "code",
   "execution_count": 14,
   "metadata": {},
   "outputs": [],
   "source": [
    "#load data from csv file\n",
    "df3 = pd.read_csv('C:/Users/HP/Desktop/DSAKigali/november_2022_sensor.csv')"
   ]
  },
  {
   "cell_type": "code",
   "execution_count": 15,
   "metadata": {},
   "outputs": [],
   "source": [
    "#split the columns into different columns \n",
    "column_split = df3['sensor_id;sensor_type;location;lat;lon;timestamp;value_type;value'].str.split(pat=';',expand=True)\n",
    "column_split.columns = ['sensor_id','sensor_type','location','lat','lon','timestamp','value_type','value']"
   ]
  },
  {
   "cell_type": "code",
   "execution_count": 17,
   "metadata": {},
   "outputs": [],
   "source": [
    "#split the columns into different\n",
    "df3=pd.concat([df3,column_split],axis=1)\n",
    "df3 = df3.drop('sensor_id;sensor_type;location;lat;lon;timestamp;value_type;value',axis=1)"
   ]
  },
  {
   "cell_type": "code",
   "execution_count": 18,
   "metadata": {},
   "outputs": [],
   "source": [
    "#question E1 create a new column\n",
    "df3['timestamp'] = pd.to_datetime(df3['timestamp'], infer_datetime_format=True)\n",
    "df3['timestamp_new'] = df3['timestamp'].dt.floor('S')"
   ]
  },
  {
   "cell_type": "code",
   "execution_count": 19,
   "metadata": {},
   "outputs": [],
   "source": [
    "#question E2 split the columns into different\n",
    "grouped = df3.groupby(df3.value_type) \n",
    "\n",
    "df3_temperature = grouped.get_group(\"temperature\") \n",
    "df3_humidity = grouped.get_group(\"humidity\") \n",
    "df3_P1 = grouped.get_group(\"P1\") \n",
    "df3_P2 = grouped.get_group(\"P2\")"
   ]
  },
  {
   "cell_type": "code",
   "execution_count": 21,
   "metadata": {},
   "outputs": [
    {
     "name": "stderr",
     "output_type": "stream",
     "text": [
      "C:\\Users\\HP\\AppData\\Local\\Temp\\ipykernel_18032\\4095155625.py:3: SettingWithCopyWarning: \n",
      "A value is trying to be set on a copy of a slice from a DataFrame.\n",
      "Try using .loc[row_indexer,col_indexer] = value instead\n",
      "\n",
      "See the caveats in the documentation: https://pandas.pydata.org/pandas-docs/stable/user_guide/indexing.html#returning-a-view-versus-a-copy\n",
      "  df3_temperature['value'] = pd.to_numeric(df3_temperature['value'])\n",
      "C:\\Users\\HP\\AppData\\Local\\Temp\\ipykernel_18032\\4095155625.py:4: SettingWithCopyWarning: \n",
      "A value is trying to be set on a copy of a slice from a DataFrame.\n",
      "Try using .loc[row_indexer,col_indexer] = value instead\n",
      "\n",
      "See the caveats in the documentation: https://pandas.pydata.org/pandas-docs/stable/user_guide/indexing.html#returning-a-view-versus-a-copy\n",
      "  df3_humidity['value'] = pd.to_numeric(df3_humidity['value'])\n",
      "C:\\Users\\HP\\AppData\\Local\\Temp\\ipykernel_18032\\4095155625.py:5: SettingWithCopyWarning: \n",
      "A value is trying to be set on a copy of a slice from a DataFrame.\n",
      "Try using .loc[row_indexer,col_indexer] = value instead\n",
      "\n",
      "See the caveats in the documentation: https://pandas.pydata.org/pandas-docs/stable/user_guide/indexing.html#returning-a-view-versus-a-copy\n",
      "  df3_P1['value'] = pd.to_numeric(df3_P1['value'])\n",
      "C:\\Users\\HP\\AppData\\Local\\Temp\\ipykernel_18032\\4095155625.py:6: SettingWithCopyWarning: \n",
      "A value is trying to be set on a copy of a slice from a DataFrame.\n",
      "Try using .loc[row_indexer,col_indexer] = value instead\n",
      "\n",
      "See the caveats in the documentation: https://pandas.pydata.org/pandas-docs/stable/user_guide/indexing.html#returning-a-view-versus-a-copy\n",
      "  df3_P2['value'] = pd.to_numeric(df3_P2['value'])\n"
     ]
    }
   ],
   "source": [
    "#question E3 find mean mode and median\n",
    "# convert value column to numeric data type\n",
    "df3_temperature['value'] = pd.to_numeric(df3_temperature['value'])\n",
    "df3_humidity['value'] = pd.to_numeric(df3_humidity['value'])\n",
    "df3_P1['value'] = pd.to_numeric(df3_P1['value'])\n",
    "df3_P2['value'] = pd.to_numeric(df3_P2['value'])\n",
    "\n",
    "# compute median of value column\n",
    "median_temp = df3_temperature['value'].median()\n",
    "median_humidity = df3_humidity['value'].median()\n",
    "median_P1 = df3_P1['value'].median()\n",
    "median_P2 = df3_P2['value'].median()\n",
    "\n",
    "# compute mode of value column\n",
    "mode_temp = df3_temperature['value'].mode()[0]\n",
    "mode_humidity = df3_humidity['value'].mode()[0]\n",
    "mode_P1 = df3_P1['value'].mode()[0]\n",
    "mode_P2 = df3_P2['value'].mode()[0]\n",
    "\n",
    "# compute mean of value column\n",
    "mean_temp = df3_temperature['value'].mean()\n",
    "mean_humidity = df3_humidity['value'].mean()\n",
    "mean_P1 = df3_P1['value'].mean()\n",
    "mean_P2 = df3_P2['value'].mean()"
   ]
  },
  {
   "cell_type": "code",
   "execution_count": 22,
   "metadata": {},
   "outputs": [],
   "source": [
    "#question E4 merge the grouped data frame with another\n",
    "df3_merged = df3_temperature.merge(df3_humidity,how='left', on='timestamp_new',suffixes=('_temperature', '_humidity'))\n",
    "df3_merged = df3_merged.merge(df3_P1,how='left', on='timestamp_new',suffixes=('_prev', '_P1'))\n",
    "df3_merged = df3_merged.merge(df3_P2,how='left', on='timestamp_new',suffixes=('_P1', '_P2'))\n",
    "df3_merged.to_csv('newdata1.csv', index=False)"
   ]
  },
  {
   "cell_type": "code",
   "execution_count": 23,
   "metadata": {},
   "outputs": [],
   "source": [
    "#question E5 open new data file \n",
    "df4 = pd.read_csv('newdata1.csv',usecols=['timestamp_new','value_temperature','value_humidity','value_P1','value_P2'])"
   ]
  },
  {
   "cell_type": "code",
   "execution_count": 24,
   "metadata": {},
   "outputs": [],
   "source": [
    "#question E6 open new data file\n",
    "missing_values = pd.isnull(df4['value_P1']) \n",
    "\n",
    "df4['value_P1'].fillna(df4['value_P1'].mean(), inplace=True) \n",
    "df4['value_P2'].fillna(df4['value_P2'].mean(), inplace=True) \n",
    "\n",
    "missing_values = pd.isnull(df4['value_P2'])"
   ]
  },
  {
   "cell_type": "code",
   "execution_count": 25,
   "metadata": {},
   "outputs": [],
   "source": [
    "#question E7 compute the correlations \n",
    "corr_temp_humidity = df4['value_temperature'].corr(df4['value_humidity'])\n",
    "corr_p1_p2 = df4['value_P1'].corr(df4['value_P2'])"
   ]
  },
  {
   "cell_type": "code",
   "execution_count": 26,
   "metadata": {},
   "outputs": [],
   "source": [
    "#question E8 create a new dataframe comprising of the avarage \n",
    "df4['timestamp_new'] = pd.to_datetime(df3['timestamp_new'], infer_datetime_format=True) \n",
    "df4['timestamp_new'] = df3['timestamp_new'].dt.floor('D')"
   ]
  },
  {
   "cell_type": "code",
   "execution_count": 27,
   "metadata": {},
   "outputs": [
    {
     "data": {
      "text/html": [
       "<div>\n",
       "<style scoped>\n",
       "    .dataframe tbody tr th:only-of-type {\n",
       "        vertical-align: middle;\n",
       "    }\n",
       "\n",
       "    .dataframe tbody tr th {\n",
       "        vertical-align: top;\n",
       "    }\n",
       "\n",
       "    .dataframe thead th {\n",
       "        text-align: right;\n",
       "    }\n",
       "</style>\n",
       "<table border=\"1\" class=\"dataframe\">\n",
       "  <thead>\n",
       "    <tr style=\"text-align: right;\">\n",
       "      <th></th>\n",
       "      <th>value_temperature</th>\n",
       "      <th>value_humidity</th>\n",
       "      <th>value_P1</th>\n",
       "      <th>value_P2</th>\n",
       "    </tr>\n",
       "    <tr>\n",
       "      <th>timestamp_new</th>\n",
       "      <th></th>\n",
       "      <th></th>\n",
       "      <th></th>\n",
       "      <th></th>\n",
       "    </tr>\n",
       "  </thead>\n",
       "  <tbody>\n",
       "    <tr>\n",
       "      <th>2022-11-25 00:00:00+00:00</th>\n",
       "      <td>19.655344</td>\n",
       "      <td>88.478364</td>\n",
       "      <td>16.462186</td>\n",
       "      <td>9.167404</td>\n",
       "    </tr>\n",
       "    <tr>\n",
       "      <th>2022-11-26 00:00:00+00:00</th>\n",
       "      <td>19.810835</td>\n",
       "      <td>90.645812</td>\n",
       "      <td>16.822895</td>\n",
       "      <td>9.652436</td>\n",
       "    </tr>\n",
       "  </tbody>\n",
       "</table>\n",
       "</div>"
      ],
      "text/plain": [
       "                           value_temperature  value_humidity   value_P1  \\\n",
       "timestamp_new                                                             \n",
       "2022-11-25 00:00:00+00:00          19.655344       88.478364  16.462186   \n",
       "2022-11-26 00:00:00+00:00          19.810835       90.645812  16.822895   \n",
       "\n",
       "                           value_P2  \n",
       "timestamp_new                        \n",
       "2022-11-25 00:00:00+00:00  9.167404  \n",
       "2022-11-26 00:00:00+00:00  9.652436  "
      ]
     },
     "execution_count": 27,
     "metadata": {},
     "output_type": "execute_result"
    }
   ],
   "source": [
    "means_nov = df4.groupby('timestamp_new').mean() \n",
    "means_nov"
   ]
  },
  {
   "cell_type": "markdown",
   "metadata": {},
   "source": [
    "Question E10: Convert the means_feb and means_nov to numpy arrays ... and then compute the average of each collumn\n",
    "\n",
    "Hint: The results are numpy arrays"
   ]
  },
  {
   "cell_type": "code",
   "execution_count": 29,
   "metadata": {},
   "outputs": [
    {
     "data": {
      "text/plain": [
       "array([21.79315977, 65.64335563, 24.73034846,  9.79737637])"
      ]
     },
     "execution_count": 29,
     "metadata": {},
     "output_type": "execute_result"
    }
   ],
   "source": [
    "import numpy as np\n",
    "feb_numpy_array = means_feb.to_numpy()\n",
    "feb_average = np.mean(feb_numpy_array, axis = 0)\n",
    "feb_average"
   ]
  },
  {
   "cell_type": "code",
   "execution_count": 30,
   "metadata": {},
   "outputs": [
    {
     "data": {
      "text/plain": [
       "array([19.73308934, 89.5620881 , 16.64254031,  9.40992022])"
      ]
     },
     "execution_count": 30,
     "metadata": {},
     "output_type": "execute_result"
    }
   ],
   "source": [
    "nov_numpy_array = means_nov.to_numpy()\n",
    "nov_average = np.mean(nov_numpy_array, axis = 0)\n",
    "nov_average"
   ]
  },
  {
   "cell_type": "code",
   "execution_count": 31,
   "metadata": {},
   "outputs": [
    {
     "name": "stdout",
     "output_type": "stream",
     "text": [
      "[-2.0600704229107585, 23.918732476324024, -8.087808148520839, -0.38745615804600675]\n"
     ]
    }
   ],
   "source": [
    "def sub():\n",
    "    diff = []\n",
    "    for i in range(len(nov_average)):\n",
    "        result = nov_average[i] - feb_average[i]\n",
    "        diff.append(result)\n",
    "   \n",
    "    return diff\n",
    " \n",
    "# Print the result of the subtraction\n",
    "difference = sub()\n",
    "print(difference)"
   ]
  }
 ],
 "metadata": {
  "kernelspec": {
   "display_name": "Python 3 (ipykernel)",
   "language": "python",
   "name": "python3"
  },
  "language_info": {
   "codemirror_mode": {
    "name": "ipython",
    "version": 3
   },
   "file_extension": ".py",
   "mimetype": "text/x-python",
   "name": "python",
   "nbconvert_exporter": "python",
   "pygments_lexer": "ipython3",
   "version": "3.10.9"
  }
 },
 "nbformat": 4,
 "nbformat_minor": 2
}
