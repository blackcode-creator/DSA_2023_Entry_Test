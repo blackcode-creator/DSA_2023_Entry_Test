{
 "cells": [
  {
   "cell_type": "markdown",
   "id": "7687673a",
   "metadata": {},
   "source": [
    "#### DSA 2023 Summer School Solution\n",
    "For this notebook you will create a virtual conda envirnoment first\n"
   ]
  },
  {
   "cell_type": "markdown",
   "id": "0c43afb3",
   "metadata": {},
   "source": [
    "#### 1.0 Installing necessary libraries "
   ]
  },
  {
   "cell_type": "code",
   "execution_count": 97,
   "id": "8d8daeb3",
   "metadata": {},
   "outputs": [],
   "source": [
    "import IPython\n",
    "from IPython import get_ipython\n",
    "import pandas as pd\n",
    "import numpy as np\n",
    "import math\n",
    "from nose.tools import assert_equal\n",
    "import otter\n",
    "from collections import Counter\n",
    "import math\n",
    "import warnings\n",
    "warnings.filterwarnings('ignore')\n",
    "\n",
    "grader = otter.Notebook()"
   ]
  },
  {
   "cell_type": "markdown",
   "id": "e269be68",
   "metadata": {},
   "source": [
    "#### 1.1 Questions from DSA"
   ]
  },
  {
   "cell_type": "markdown",
   "id": "253cb046",
   "metadata": {},
   "source": [
    "#### 1.1.1 Question 1: Write a Python function to return a tuple of primes and non primes given an integer input"
   ]
  },
  {
   "cell_type": "code",
   "execution_count": 28,
   "id": "9e1620a2",
   "metadata": {},
   "outputs": [
    {
     "name": "stdout",
     "output_type": "stream",
     "text": [
      "up to: 30\n",
      "Following Are The Prime And Non Prime Numbers Smaller Than Or Equal To 30\n"
     ]
    },
    {
     "data": {
      "text/plain": [
       "((2, 3, 5, 7, 11, 13, 17, 19, 23, 29),\n",
       " (4, 6, 8, 10, 12, 14, 16, 18, 20, 22, 24, 26, 28, 30, 9, 15, 21, 27, 25))"
      ]
     },
     "execution_count": 28,
     "metadata": {},
     "output_type": "execute_result"
    }
   ],
   "source": [
    "num = int(input(\"up to: \"))\n",
    "\n",
    "def prime_or_not(num):\n",
    "    \n",
    "    #Initialize numbers into a list from 2 to input num\n",
    "    numbers = list(range(2, num + 1))\n",
    "    \n",
    "    #Initialize a empty list\n",
    "    to_primes_list = []\n",
    "    to_non_primes_list = []\n",
    "    \n",
    "    #loop over through the list of numbers\n",
    "    while len(numbers) > 0:\n",
    "        \n",
    "        #pop out the first number - index 0 from the list\n",
    "        current = numbers.pop(0)\n",
    "        \n",
    "        #validate if the number is a denoted as non-prime\n",
    "        if current in to_non_primes_list:\n",
    "            continue\n",
    "            \n",
    "        # Appending the number to to_primes_list\n",
    "        to_primes_list.append(current)\n",
    "        \n",
    "        #remove duplicate of number from the list of numbers\n",
    "        for i in range(len(numbers)):\n",
    "            if numbers[i] % current == 0:\n",
    "                to_non_primes_list.append(numbers[i])\n",
    "                numbers[i] = 0\n",
    "        numbers = [n for n in numbers if n != 0]\n",
    "    return tuple(to_primes_list), tuple(to_non_primes_list)\n",
    "\n",
    "txt = \"Following are the prime and non prime numbers smaller than or equal to \" + str(num)\n",
    "x = txt.title()\n",
    "print(x)\n",
    "prime_or_not(num)"
   ]
  },
  {
   "cell_type": "markdown",
   "id": "c37a1f71",
   "metadata": {},
   "source": [
    "#### 1.1.2 Question  2: Create a dictionary to store the type and number of unique characters in the paragraph provided"
   ]
  },
  {
   "cell_type": "code",
   "execution_count": 29,
   "id": "df57d69c",
   "metadata": {},
   "outputs": [
    {
     "name": "stdout",
     "output_type": "stream",
     "text": [
      "Counter({' ': 192, 'e': 89, 'o': 68, 't': 65, 'i': 60, 's': 57, 'a': 48, 'r': 45, 'n': 42, 'l': 35, 'c': 31, 'd': 27, 'f': 26, 'u': 26, '0': 22, 'm': 20, 'y': 19, 'h': 17, 'w': 16, 'g': 14, '3': 13, '.': 12, 'p': 11, 'b': 11, '1': 11, '2': 10, '7': 10, 'k': 9, ',': 7, '4': 5, 'v': 4, '-': 4, '*': 4, '^': 4, 'T': 3, 'x': 3, '5': 3, '6': 3, '8': 3, '’': 3, '(': 3, ')': 3, 'q': 3, 'O': 3, ':': 2, '9': 2, 'S': 2, 'A': 2, '{': 2, '}': 2, '`': 2, 'I': 1, 'V': 1, 'F': 1, '[': 1, ']': 1, 'W': 1, '<': 1, 'N': 1, '>': 1, '“': 1, '”': 1, '‘': 1, 'E': 1, '/': 1, '\\\\': 1})\n"
     ]
    }
   ],
   "source": [
    "paragraph = \"The following is sample text I used to practice special characters using keybr.com: 112233445566778899 Saturn V rocket’s first stage carries 203,400 gallons (770,000 liters) of kerosene fuel and 318,000 gallons (1.2 million liters) of liquid oxygen needed for combustion. At liftoff, the stage’s five F-1 rocket engines ignite and produce 7.5 million pounds of thrust. To replace those goofy quantities with the far less retarded metric system (even though liters are considered part of the metric system they are the same as cubic deci-meters) you would say 770 cubic meters of kerosene {abbreviated as m3} and 1,204 m3 of liquid O2 [O2 is the symbol for oxygen]. We would also say it produced 33,600,000 newtons of force <abbreviated as N>. To add scientific notation {a way of writing numbers that allows you to write only as many digits `of specificity` as you would like} you can write 7.7 * 10 ^ 2 m3 of kerosene 1.204 * 10 ^ 3 m3 of O2 and 3.3 * 10 ^ 7 newtons. Another way to write scientific notation is to replace the “* 10 ^” with ‘E’ -/capital e\\-. So our numbers would look like:s\"\n",
    "\n",
    "char_counts = Counter(paragraph)\n",
    "print(char_counts)"
   ]
  },
  {
   "cell_type": "markdown",
   "id": "d4a360f6",
   "metadata": {},
   "source": [
    "#### 1.1.3 Question 3: Extracting the values from the created dictionary into a list"
   ]
  },
  {
   "cell_type": "code",
   "execution_count": 30,
   "id": "f89993b3",
   "metadata": {},
   "outputs": [
    {
     "name": "stdout",
     "output_type": "stream",
     "text": [
      "['T', 'h', 'e', ' ', 'f', 'o', 'l', 'w', 'i', 'n', 'g', 's', 'a', 'm', 'p', 't', 'x', 'I', 'u', 'd', 'r', 'c', 'k', 'y', 'b', '.', ':', '1', '2', '3', '4', '5', '6', '7', '8', '9', 'S', 'V', '’', '0', ',', '(', ')', 'q', 'A', 'v', 'F', '-', '{', '}', 'O', '[', ']', 'W', '<', 'N', '>', '`', '*', '^', '“', '”', '‘', 'E', '/', '\\\\']\n"
     ]
    }
   ],
   "source": [
    "char_counts = Counter(paragraph)\n",
    "keys_to_list = list(char_counts.keys())\n",
    "\n",
    "print(keys_to_list)"
   ]
  },
  {
   "cell_type": "markdown",
   "id": "2c7b6d8c",
   "metadata": {},
   "source": [
    "#### 1.1.4 Question 4: Extracting keys from the dictionary "
   ]
  },
  {
   "cell_type": "code",
   "execution_count": 31,
   "id": "4fda36b8",
   "metadata": {},
   "outputs": [
    {
     "name": "stdout",
     "output_type": "stream",
     "text": [
      "[3, 17, 89, 192, 26, 68, 35, 16, 60, 42, 14, 57, 48, 20, 11, 65, 3, 1, 26, 27, 45, 31, 9, 19, 11, 12, 2, 11, 10, 13, 5, 3, 3, 10, 3, 2, 2, 1, 3, 22, 7, 3, 3, 3, 2, 4, 1, 4, 2, 2, 3, 1, 1, 1, 1, 1, 1, 2, 4, 4, 1, 1, 1, 1, 1, 1]\n"
     ]
    }
   ],
   "source": [
    "char_counts = Counter(paragraph)\n",
    "values_to_list = list(char_counts.values())\n",
    "print(values_to_list)"
   ]
  },
  {
   "cell_type": "markdown",
   "id": "7bfaff9a",
   "metadata": {},
   "source": [
    "#### 1.1.5 Question 5: Merging the two lists created to a tuple"
   ]
  },
  {
   "cell_type": "code",
   "execution_count": 32,
   "id": "2d272880",
   "metadata": {},
   "outputs": [
    {
     "name": "stdout",
     "output_type": "stream",
     "text": [
      "(('T', 3), ('h', 17), ('e', 89), (' ', 192), ('f', 26), ('o', 68), ('l', 35), ('w', 16), ('i', 60), ('n', 42), ('g', 14), ('s', 57), ('a', 48), ('m', 20), ('p', 11), ('t', 65), ('x', 3), ('I', 1), ('u', 26), ('d', 27), ('r', 45), ('c', 31), ('k', 9), ('y', 19), ('b', 11), ('.', 12), (':', 2), ('1', 11), ('2', 10), ('3', 13), ('4', 5), ('5', 3), ('6', 3), ('7', 10), ('8', 3), ('9', 2), ('S', 2), ('V', 1), ('’', 3), ('0', 22), (',', 7), ('(', 3), (')', 3), ('q', 3), ('A', 2), ('v', 4), ('F', 1), ('-', 4), ('{', 2), ('}', 2), ('O', 3), ('[', 1), (']', 1), ('W', 1), ('<', 1), ('N', 1), ('>', 1), ('`', 2), ('*', 4), ('^', 4), ('“', 1), ('”', 1), ('‘', 1), ('E', 1), ('/', 1), ('\\\\', 1))\n"
     ]
    }
   ],
   "source": [
    "char_counts = Counter(paragraph)\n",
    "keys_to_list = list(char_counts.keys())\n",
    "values_to_list = list(char_counts.values())\n",
    "\n",
    "merge_the_tuple = tuple(zip(keys_to_list, values_to_list))\n",
    "\n",
    "print(merge_the_tuple)"
   ]
  },
  {
   "cell_type": "markdown",
   "id": "df4c82b6",
   "metadata": {},
   "source": [
    "#### 1.1.6 Question 6: Write a function greatest_common_divisor that takes two inputs a and b and returns the greatest common divisor of the two numbers. E.g input (10, 15) wold return 5"
   ]
  },
  {
   "cell_type": "code",
   "execution_count": 38,
   "id": "8f5d2946",
   "metadata": {},
   "outputs": [
    {
     "name": "stdout",
     "output_type": "stream",
     "text": [
      "Enter the value of a: 10\n",
      "Enter the value of b: 15\n",
      "Greatest commom divisor is: 5 between 10 and 15\n"
     ]
    }
   ],
   "source": [
    "a = int(input(\"Enter the value of a: \"))\n",
    "b = int(input(\"Enter the value of b: \"))\n",
    "\n",
    "def greatest_common_divisor(a, b):\n",
    "    \n",
    "    #validate if both is equal to 0 to return b or a\n",
    "    if a == 0:\n",
    "        return b\n",
    "    elif b == 0:\n",
    "        return a\n",
    "    \n",
    "    p = 0\n",
    "    while ((a | b) & 1) == 0:\n",
    "        a >>= 1\n",
    "        b >>= 1\n",
    "        p += 1\n",
    "        \n",
    "    while (a & 1) == 0:\n",
    "        a >>= 1\n",
    "        \n",
    "    while b != 0:\n",
    "        while (b & 1) == 0:\n",
    "            b >>= 1\n",
    "        if a > b:\n",
    "            a, b = b, a\n",
    "        b -= a\n",
    "    return a << p\n",
    "\n",
    "print(\"Greatest commom divisor is:\",greatest_common_divisor(a, b), \"between\", a,\"and\",b)"
   ]
  },
  {
   "cell_type": "markdown",
   "id": "a9bdf102",
   "metadata": {},
   "source": [
    "#### 1.1.7 Question 7: Write a function get_nearest_farthest that takes in a point of interest (pt) and a list of points and returns the nearest point and the farthest point from the point of intest"
   ]
  },
  {
   "cell_type": "code",
   "execution_count": 44,
   "id": "bf454bb7",
   "metadata": {},
   "outputs": [
    {
     "name": "stdout",
     "output_type": "stream",
     "text": [
      "Enter the coordinates of the point of interest (separated by commas): 3,8\n",
      "Enter the coordinates of the points (comma-separated): 3,8,9,3,8,5,7,6\n",
      "Nearest point:  (3, 8)\n",
      "Farthest point:  (9, 3)\n"
     ]
    }
   ],
   "source": [
    "def get_nearest_farthest(pt, points):\n",
    "    distances = [math.sqrt((p[0]-pt[0])**2 + (p[1]-pt[1])**2) for p in points]\n",
    "    nearest_idx = distances.index(min(distances))\n",
    "    farthest_idx = distances.index(max(distances))\n",
    "    return points[nearest_idx], points[farthest_idx]\n",
    "\n",
    "pt_input = input(\"Enter the coordinates of the point of interest (separated by commas): \")\n",
    "pt = tuple(map(int, pt_input.split(',')))\n",
    "points_input = input(\"Enter the coordinates of the points (comma-separated): \")\n",
    "points_list = points_input.split(',')\n",
    "points = [(int(points_list[i]), int(points_list[i+1])) for i in range(0, len(points_list), 2)]\n",
    "\n",
    "nearest_point, farthest_point = get_nearest_farthest(pt, points)\n",
    "print(\"Nearest point: \", nearest_point)\n",
    "print(\"Farthest point: \", farthest_point)"
   ]
  },
  {
   "cell_type": "markdown",
   "id": "0a460067",
   "metadata": {},
   "source": [
    "#### 1.1.8 Question 8: Write a function perfectly_divisible to return a list of numbers between 0 and a number N that are perfectly divisible by q (with out leaving a remainder). Hint: N should also be inclusive in the numbers being considered. If N is negative use N == 20"
   ]
  },
  {
   "cell_type": "code",
   "execution_count": 45,
   "id": "29c02fc6",
   "metadata": {},
   "outputs": [
    {
     "name": "stdout",
     "output_type": "stream",
     "text": [
      "Enter a number N: 10\n",
      "Enter a number q: 2\n",
      "[0, 2, 4, 6, 8, 10]\n"
     ]
    }
   ],
   "source": [
    "def perfectly_divisible(N, q):\n",
    "    if N < 0:\n",
    "        N = 20\n",
    "    return [num for num in range(N+1) if num % q == 0]\n",
    "\n",
    "N = int(input(\"Enter a number N: \"))\n",
    "q = int(input(\"Enter a number q: \"))\n",
    "result = perfectly_divisible(N, q)\n",
    "print(result)"
   ]
  },
  {
   "cell_type": "markdown",
   "id": "4b91c846",
   "metadata": {},
   "source": [
    "#### 1.1.9 Question 9: Write a function flatten_lists that takes in a list of lists and outputs a sorted list of elements of sublists of the input list (confusing right?) Example: given flatten_lists([[2,13,44], [6,7]]) it should return [2,6,7,13,44]"
   ]
  },
  {
   "cell_type": "code",
   "execution_count": 53,
   "id": "9361675a",
   "metadata": {},
   "outputs": [
    {
     "name": "stdout",
     "output_type": "stream",
     "text": [
      "Enter a list of lists separated by commas: 2,13,44;6,7\n",
      "[2, 6, 7, 13, 44]\n"
     ]
    }
   ],
   "source": [
    "def flatten_lists(lst):\n",
    "    flat_list = []\n",
    "    for sublist in lst:\n",
    "        flat_list.extend(sublist)\n",
    "    return sorted(flat_list)\n",
    "\n",
    "input_list = input(\"Enter a list of lists separated by commas: \")\n",
    "lst = [[int(num) for num in sublist.split(\",\")] for sublist in input_list.replace(\";\", \",\").split(\",\")]\n",
    "print(flatten_lists(lst))\n"
   ]
  },
  {
   "cell_type": "markdown",
   "id": "65c5ae9a",
   "metadata": {},
   "source": [
    "#### 1.2 The Extra Mile!\n",
    "\n",
    "##### Download the dataset \"Nakuru Sensor Data for February 2023 from https://open.africa/dataset/678d3d27-1973-4c50-b1c0-5df331fd6d4e/resource/14165682-37dd-4f40-914e-eb24619e4ef8/download/tmpc57lj4n6.csv"
   ]
  },
  {
   "cell_type": "markdown",
   "id": "337a5c0f",
   "metadata": {},
   "source": [
    "#### 1.2.0 Loading the dataset from dataset folder\n",
    "#### 1.2.1: Load the 'timestamp','value_type' and 'value' collumns into a pandas dataframe"
   ]
  },
  {
   "cell_type": "code",
   "execution_count": 116,
   "id": "ebb02a2e",
   "metadata": {},
   "outputs": [
    {
     "name": "stdout",
     "output_type": "stream",
     "text": [
      "  sensor_id sensor_type location     lat     lon  \\\n",
      "0       145       DHT22     3528  -0.286  36.067   \n",
      "1       145       DHT22     3528  -0.286  36.067   \n",
      "2       144      SDS011     3528  -0.286  36.067   \n",
      "3       144      SDS011     3528  -0.286  36.067   \n",
      "4       145       DHT22     3528  -0.286  36.067   \n",
      "\n",
      "                          timestamp   value_type value  \n",
      "0  2023-02-04T04:22:51.323124+00:00     humidity   100  \n",
      "1  2023-02-04T04:22:51.323124+00:00  temperature    12  \n",
      "2  2023-02-04T04:22:51.323125+00:00           P2    27  \n",
      "3  2023-02-04T04:22:51.323125+00:00           P1    59  \n",
      "4  2023-02-04T04:25:32.354784+00:00     humidity   100  \n"
     ]
    }
   ],
   "source": [
    "df = pd.read_csv(\"../dataset/Nakuru_Sensor_Data_Feb_2023.csv\")\n",
    "\n",
    "column_split = df['sensor_id;sensor_type;location;lat;lon;timestamp;value_type;value'].str.split(pat=';',expand=True)\n",
    "column_split.columns = ['sensor_id','sensor_type','location','lat','lon','timestamp','value_type','value']\n",
    "\n",
    "df=pd.concat([df,column_split],axis=1)\n",
    "\n",
    "df = df.drop('sensor_id;sensor_type;location;lat;lon;timestamp;value_type;value',axis=1)\n",
    "\n",
    "print(df.head(5))"
   ]
  },
  {
   "cell_type": "markdown",
   "id": "f87e1eb3",
   "metadata": {},
   "source": [
    "#### 1.2.2: Create a new collumn 'timestamp_new' from 'timestamp' rounded off to the second "
   ]
  },
  {
   "cell_type": "code",
   "execution_count": 109,
   "id": "57ec6a2c",
   "metadata": {},
   "outputs": [],
   "source": [
    "df['timestamp'] = pd.to_datetime(df['timestamp'], infer_datetime_format=True)\n",
    "df['timestamp_new'] = df['timestamp'].dt.floor('S')"
   ]
  },
  {
   "cell_type": "markdown",
   "id": "a025d04e",
   "metadata": {},
   "source": [
    "#### 1.2.3:  Question E2: Split the dataframe based on the 'value_type' column"
   ]
  },
  {
   "cell_type": "code",
   "execution_count": 117,
   "id": "facd9c3e",
   "metadata": {},
   "outputs": [
    {
     "name": "stdout",
     "output_type": "stream",
     "text": [
      "   sensor_id sensor_type location     lat     lon  \\\n",
      "1        145       DHT22     3528  -0.286  36.067   \n",
      "5        145       DHT22     3528  -0.286  36.067   \n",
      "11       145       DHT22     3528  -0.286  36.067   \n",
      "13       145       DHT22     3528  -0.286  36.067   \n",
      "17       145       DHT22     3528  -0.286  36.067   \n",
      "\n",
      "                           timestamp   value_type value  \n",
      "1   2023-02-04T04:22:51.323124+00:00  temperature    12  \n",
      "5   2023-02-04T04:25:32.354784+00:00  temperature    11  \n",
      "11  2023-02-04T04:28:12.716734+00:00  temperature    12  \n",
      "13  2023-02-04T04:30:52.437513+00:00  temperature    12  \n",
      "17  2023-02-04T04:33:32.677578+00:00  temperature    12  \n"
     ]
    }
   ],
   "source": [
    "grouped = df.groupby(df.value_type) \n",
    "df_temperature = grouped.get_group(\"temperature\") \n",
    "df_humidity = grouped.get_group(\"humidity\") \n",
    "df_P1 = grouped.get_group(\"P1\") \n",
    "df_P2 = grouped.get_group(\"P2\") \n",
    "print(df_temperature.head(5))\n"
   ]
  },
  {
   "cell_type": "markdown",
   "id": "565c6791",
   "metadata": {},
   "source": [
    "#### 1.2.4: Question E3: Find the mean, mode and median of the humidity, temperature, P1 and P2 values"
   ]
  },
  {
   "cell_type": "code",
   "execution_count": 111,
   "id": "e212d283",
   "metadata": {},
   "outputs": [],
   "source": [
    "# convert value column to numeric data type\n",
    "df_temperature['value'] = pd.to_numeric(df_temperature['value'])\n",
    "df_humidity['value'] = pd.to_numeric(df_humidity['value'])\n",
    "df_P1['value'] = pd.to_numeric(df_P1['value'])\n",
    "df_P2['value'] = pd.to_numeric(df_P2['value'])\n",
    "\n",
    "# compute median of value column\n",
    "median_temp = df_temperature['value'].median()\n",
    "median_humidity = df_humidity['value'].median()\n",
    "median_P1 = df_P1['value'].median()\n",
    "median_P2 = df_P2['value'].median()\n",
    "\n",
    "# compute mode of value column\n",
    "mode_temp = df_temperature['value'].mode()[0]\n",
    "mode_humidity = df_humidity['value'].mode()[0]\n",
    "mode_P1 = df_P1['value'].mode()[0]\n",
    "mode_P2 = df_P2['value'].mode()[0]\n",
    "\n",
    "# compute mean of value column\n",
    "mean_temp = df_temperature['value'].mean()\n",
    "mean_humidity = df_humidity['value'].mean()\n",
    "mean_P1 = df_P1['value'].mean()\n",
    "mean_P2 = df_P2['value'].mean()\n"
   ]
  },
  {
   "cell_type": "markdown",
   "id": "7f16fc00",
   "metadata": {},
   "source": [
    "#### 1.2.5 Question E4: Merge the grouped dataframes into one dataframe and save it as newdata.csv"
   ]
  },
  {
   "cell_type": "code",
   "execution_count": 112,
   "id": "b57f0da6",
   "metadata": {
    "scrolled": true
   },
   "outputs": [],
   "source": [
    "df_merged = df_temperature.merge(df_humidity,how='left', on='timestamp_new',suffixes=('_temperature', '_humidity'))\n",
    "df_merged = df_merged.merge(df_P1,how='left', on='timestamp_new',suffixes=('_prev', '_P1'))\n",
    "df_merged = df_merged.merge(df_P2,how='left', on='timestamp_new',suffixes=('_P1', '_P2'))\n",
    "\n",
    "df_merged.to_csv('../dataset/newdata.csv', index=False)\n"
   ]
  },
  {
   "cell_type": "markdown",
   "id": "755df28d",
   "metadata": {},
   "source": [
    "#### 1.3.0 : Open the new data file and select only 'timestamp_new','value_temperature','value_humidity','value_P1' and 'value_P2' collunms"
   ]
  },
  {
   "cell_type": "code",
   "execution_count": 115,
   "id": "78d030af",
   "metadata": {
    "scrolled": true
   },
   "outputs": [
    {
     "data": {
      "text/html": [
       "<div>\n",
       "<style scoped>\n",
       "    .dataframe tbody tr th:only-of-type {\n",
       "        vertical-align: middle;\n",
       "    }\n",
       "\n",
       "    .dataframe tbody tr th {\n",
       "        vertical-align: top;\n",
       "    }\n",
       "\n",
       "    .dataframe thead th {\n",
       "        text-align: right;\n",
       "    }\n",
       "</style>\n",
       "<table border=\"1\" class=\"dataframe\">\n",
       "  <thead>\n",
       "    <tr style=\"text-align: right;\">\n",
       "      <th></th>\n",
       "      <th>value_temperature</th>\n",
       "      <th>timestamp_new</th>\n",
       "      <th>value_humidity</th>\n",
       "      <th>value_P1</th>\n",
       "      <th>value_P2</th>\n",
       "    </tr>\n",
       "  </thead>\n",
       "  <tbody>\n",
       "    <tr>\n",
       "      <th>0</th>\n",
       "      <td>12</td>\n",
       "      <td>2023-02-04 04:22:51+00:00</td>\n",
       "      <td>100</td>\n",
       "      <td>59.0</td>\n",
       "      <td>27.0</td>\n",
       "    </tr>\n",
       "    <tr>\n",
       "      <th>1</th>\n",
       "      <td>11</td>\n",
       "      <td>2023-02-04 04:25:32+00:00</td>\n",
       "      <td>100</td>\n",
       "      <td>51.0</td>\n",
       "      <td>27.0</td>\n",
       "    </tr>\n",
       "    <tr>\n",
       "      <th>2</th>\n",
       "      <td>12</td>\n",
       "      <td>2023-02-04 04:28:12+00:00</td>\n",
       "      <td>100</td>\n",
       "      <td>56.0</td>\n",
       "      <td>23.0</td>\n",
       "    </tr>\n",
       "    <tr>\n",
       "      <th>3</th>\n",
       "      <td>12</td>\n",
       "      <td>2023-02-04 04:30:52+00:00</td>\n",
       "      <td>100</td>\n",
       "      <td>56.0</td>\n",
       "      <td>25.0</td>\n",
       "    </tr>\n",
       "    <tr>\n",
       "      <th>4</th>\n",
       "      <td>12</td>\n",
       "      <td>2023-02-04 04:33:32+00:00</td>\n",
       "      <td>100</td>\n",
       "      <td>117.0</td>\n",
       "      <td>31.0</td>\n",
       "    </tr>\n",
       "  </tbody>\n",
       "</table>\n",
       "</div>"
      ],
      "text/plain": [
       "   value_temperature              timestamp_new  value_humidity  value_P1  \\\n",
       "0                 12  2023-02-04 04:22:51+00:00             100      59.0   \n",
       "1                 11  2023-02-04 04:25:32+00:00             100      51.0   \n",
       "2                 12  2023-02-04 04:28:12+00:00             100      56.0   \n",
       "3                 12  2023-02-04 04:30:52+00:00             100      56.0   \n",
       "4                 12  2023-02-04 04:33:32+00:00             100     117.0   \n",
       "\n",
       "   value_P2  \n",
       "0      27.0  \n",
       "1      27.0  \n",
       "2      23.0  \n",
       "3      25.0  \n",
       "4      31.0  "
      ]
     },
     "execution_count": 115,
     "metadata": {},
     "output_type": "execute_result"
    }
   ],
   "source": [
    "df2 = pd.read_csv('../dataset/newdata.csv',usecols=['timestamp_new','value_temperature','value_humidity','value_P1','value_P2'])\n",
    "df2.head()"
   ]
  },
  {
   "cell_type": "markdown",
   "id": "b472eacb",
   "metadata": {},
   "source": [
    "#### 1.3.1 Question E6: Replace the missing values in collumns 'value_P1' and 'value_P2' with the mean of the same collumns"
   ]
  },
  {
   "cell_type": "code",
   "execution_count": 118,
   "id": "a22047a4",
   "metadata": {},
   "outputs": [
    {
     "data": {
      "text/html": [
       "<div>\n",
       "<style scoped>\n",
       "    .dataframe tbody tr th:only-of-type {\n",
       "        vertical-align: middle;\n",
       "    }\n",
       "\n",
       "    .dataframe tbody tr th {\n",
       "        vertical-align: top;\n",
       "    }\n",
       "\n",
       "    .dataframe thead th {\n",
       "        text-align: right;\n",
       "    }\n",
       "</style>\n",
       "<table border=\"1\" class=\"dataframe\">\n",
       "  <thead>\n",
       "    <tr style=\"text-align: right;\">\n",
       "      <th></th>\n",
       "      <th>value_temperature</th>\n",
       "      <th>timestamp_new</th>\n",
       "      <th>value_humidity</th>\n",
       "      <th>value_P1</th>\n",
       "      <th>value_P2</th>\n",
       "    </tr>\n",
       "  </thead>\n",
       "  <tbody>\n",
       "  </tbody>\n",
       "</table>\n",
       "</div>"
      ],
      "text/plain": [
       "Empty DataFrame\n",
       "Columns: [value_temperature, timestamp_new, value_humidity, value_P1, value_P2]\n",
       "Index: []"
      ]
     },
     "execution_count": 118,
     "metadata": {},
     "output_type": "execute_result"
    }
   ],
   "source": [
    "missing_values = pd.isnull(df2['value_P1']) \n",
    "\n",
    "df2['value_P1'].fillna(df2['value_P1'].mean(), inplace=True) \n",
    "df2['value_P2'].fillna(df2['value_P2'].mean(), inplace=True) \n",
    "\n",
    "missing_values = pd.isnull(df2['value_P2'])\n",
    "\n",
    "df2[missing_values] "
   ]
  },
  {
   "cell_type": "markdown",
   "id": "79191347",
   "metadata": {},
   "source": [
    "#### 1.3.2 Question E7: Compute the correlations between temperature and humidity; P1 and P2"
   ]
  },
  {
   "cell_type": "code",
   "execution_count": 119,
   "id": "2df9edd7",
   "metadata": {},
   "outputs": [
    {
     "name": "stdout",
     "output_type": "stream",
     "text": [
      "Correlation between P1 and P2 0.8734801215476381\n",
      "Correlation between temparature and humidity -0.902823984918267\n"
     ]
    }
   ],
   "source": [
    "corr_temp_humidity = df2['value_temperature'].corr(df2['value_humidity'])\n",
    "corr_p1_p2 = df2['value_P1'].corr(df2['value_P2'])\n",
    "\n",
    "print (\"Correlation between P1 and P2\",corr_p1_p2)\n",
    "print (\"Correlation between temparature and humidity\",corr_temp_humidity)"
   ]
  },
  {
   "cell_type": "markdown",
   "id": "937fab60",
   "metadata": {},
   "source": [
    "#### 1.3.3 Question E8: Create a new dataframe comprising of the average values of the variables by day"
   ]
  },
  {
   "cell_type": "code",
   "execution_count": 123,
   "id": "c9efcd24",
   "metadata": {},
   "outputs": [
    {
     "data": {
      "text/html": [
       "<div>\n",
       "<style scoped>\n",
       "    .dataframe tbody tr th:only-of-type {\n",
       "        vertical-align: middle;\n",
       "    }\n",
       "\n",
       "    .dataframe tbody tr th {\n",
       "        vertical-align: top;\n",
       "    }\n",
       "\n",
       "    .dataframe thead th {\n",
       "        text-align: right;\n",
       "    }\n",
       "</style>\n",
       "<table border=\"1\" class=\"dataframe\">\n",
       "  <thead>\n",
       "    <tr style=\"text-align: right;\">\n",
       "      <th></th>\n",
       "      <th>value_temperature</th>\n",
       "      <th>value_humidity</th>\n",
       "      <th>value_P1</th>\n",
       "      <th>value_P2</th>\n",
       "    </tr>\n",
       "    <tr>\n",
       "      <th>timestamp_new</th>\n",
       "      <th></th>\n",
       "      <th></th>\n",
       "      <th></th>\n",
       "      <th></th>\n",
       "    </tr>\n",
       "  </thead>\n",
       "  <tbody>\n",
       "    <tr>\n",
       "      <th>2023-02-04 00:00:00+00:00</th>\n",
       "      <td>22.312783</td>\n",
       "      <td>62.269231</td>\n",
       "      <td>22.261655</td>\n",
       "      <td>7.998801</td>\n",
       "    </tr>\n",
       "    <tr>\n",
       "      <th>2023-02-05 00:00:00+00:00</th>\n",
       "      <td>22.171759</td>\n",
       "      <td>68.225926</td>\n",
       "      <td>28.545665</td>\n",
       "      <td>12.723529</td>\n",
       "    </tr>\n",
       "    <tr>\n",
       "      <th>2023-02-06 00:00:00+00:00</th>\n",
       "      <td>22.223562</td>\n",
       "      <td>61.916048</td>\n",
       "      <td>35.875720</td>\n",
       "      <td>13.835411</td>\n",
       "    </tr>\n",
       "    <tr>\n",
       "      <th>2023-02-07 00:00:00+00:00</th>\n",
       "      <td>22.747227</td>\n",
       "      <td>65.021719</td>\n",
       "      <td>33.383922</td>\n",
       "      <td>13.310616</td>\n",
       "    </tr>\n",
       "    <tr>\n",
       "      <th>2023-02-08 00:00:00+00:00</th>\n",
       "      <td>22.932282</td>\n",
       "      <td>62.166976</td>\n",
       "      <td>26.097481</td>\n",
       "      <td>9.938813</td>\n",
       "    </tr>\n",
       "    <tr>\n",
       "      <th>2023-02-09 00:00:00+00:00</th>\n",
       "      <td>18.371345</td>\n",
       "      <td>74.260234</td>\n",
       "      <td>2.217649</td>\n",
       "      <td>0.977087</td>\n",
       "    </tr>\n",
       "  </tbody>\n",
       "</table>\n",
       "</div>"
      ],
      "text/plain": [
       "                           value_temperature  value_humidity   value_P1  \\\n",
       "timestamp_new                                                             \n",
       "2023-02-04 00:00:00+00:00          22.312783       62.269231  22.261655   \n",
       "2023-02-05 00:00:00+00:00          22.171759       68.225926  28.545665   \n",
       "2023-02-06 00:00:00+00:00          22.223562       61.916048  35.875720   \n",
       "2023-02-07 00:00:00+00:00          22.747227       65.021719  33.383922   \n",
       "2023-02-08 00:00:00+00:00          22.932282       62.166976  26.097481   \n",
       "2023-02-09 00:00:00+00:00          18.371345       74.260234   2.217649   \n",
       "\n",
       "                            value_P2  \n",
       "timestamp_new                         \n",
       "2023-02-04 00:00:00+00:00   7.998801  \n",
       "2023-02-05 00:00:00+00:00  12.723529  \n",
       "2023-02-06 00:00:00+00:00  13.835411  \n",
       "2023-02-07 00:00:00+00:00  13.310616  \n",
       "2023-02-08 00:00:00+00:00   9.938813  \n",
       "2023-02-09 00:00:00+00:00   0.977087  "
      ]
     },
     "execution_count": 123,
     "metadata": {},
     "output_type": "execute_result"
    }
   ],
   "source": [
    "df2['timestamp_new'] = pd.to_datetime(df2['timestamp_new'], infer_datetime_format=True) \n",
    "df2['timestamp_new'] = df2['timestamp_new'].dt.floor('D')  \n",
    "\n",
    "means_feb = df2.groupby('timestamp_new').mean() \n",
    "means_feb"
   ]
  },
  {
   "cell_type": "markdown",
   "id": "dd018211",
   "metadata": {},
   "source": [
    "#### 1.4.0 Question E9: Download the dataset \"Nakuru Sensor Data for November 2021 from https://open.africa/dataset/sensorsafrica-airquality-archive-nakuru/resource/1f11351e-156b-4e4c-a063-b86a6ee07c4a\"\n",
    "\n",
    "#### Load the data into a pandas dataframe and develop a dataframe similar to what you have just done in Question no's 6 - 13 above"
   ]
  },
  {
   "cell_type": "code",
   "execution_count": 125,
   "id": "22b828d8",
   "metadata": {},
   "outputs": [
    {
     "data": {
      "text/html": [
       "<div>\n",
       "<style scoped>\n",
       "    .dataframe tbody tr th:only-of-type {\n",
       "        vertical-align: middle;\n",
       "    }\n",
       "\n",
       "    .dataframe tbody tr th {\n",
       "        vertical-align: top;\n",
       "    }\n",
       "\n",
       "    .dataframe thead th {\n",
       "        text-align: right;\n",
       "    }\n",
       "</style>\n",
       "<table border=\"1\" class=\"dataframe\">\n",
       "  <thead>\n",
       "    <tr style=\"text-align: right;\">\n",
       "      <th></th>\n",
       "      <th>sensor_id;sensor_type;location;lat;lon;timestamp;value_type;value</th>\n",
       "    </tr>\n",
       "  </thead>\n",
       "  <tbody>\n",
       "    <tr>\n",
       "      <th>0</th>\n",
       "      <td>144;SDS011;3528;-0.286;36.067;2021-11-08T04:40...</td>\n",
       "    </tr>\n",
       "    <tr>\n",
       "      <th>1</th>\n",
       "      <td>144;SDS011;3528;-0.286;36.067;2021-11-08T04:40...</td>\n",
       "    </tr>\n",
       "    <tr>\n",
       "      <th>2</th>\n",
       "      <td>145;DHT22;3528;-0.286;36.067;2021-11-08T04:40:...</td>\n",
       "    </tr>\n",
       "    <tr>\n",
       "      <th>3</th>\n",
       "      <td>145;DHT22;3528;-0.286;36.067;2021-11-08T04:40:...</td>\n",
       "    </tr>\n",
       "    <tr>\n",
       "      <th>4</th>\n",
       "      <td>145;DHT22;3528;-0.286;36.067;2021-11-08T04:42:...</td>\n",
       "    </tr>\n",
       "  </tbody>\n",
       "</table>\n",
       "</div>"
      ],
      "text/plain": [
       "  sensor_id;sensor_type;location;lat;lon;timestamp;value_type;value\n",
       "0  144;SDS011;3528;-0.286;36.067;2021-11-08T04:40...               \n",
       "1  144;SDS011;3528;-0.286;36.067;2021-11-08T04:40...               \n",
       "2  145;DHT22;3528;-0.286;36.067;2021-11-08T04:40:...               \n",
       "3  145;DHT22;3528;-0.286;36.067;2021-11-08T04:40:...               \n",
       "4  145;DHT22;3528;-0.286;36.067;2021-11-08T04:42:...               "
      ]
     },
     "execution_count": 125,
     "metadata": {},
     "output_type": "execute_result"
    }
   ],
   "source": [
    "#load data from csv file\n",
    "df3 = pd.read_csv('../dataset/Nakuru_Sensor_Data_Nov_2021.csv')\n",
    "df3.head()"
   ]
  },
  {
   "cell_type": "code",
   "execution_count": 126,
   "id": "4d1554d1",
   "metadata": {},
   "outputs": [],
   "source": [
    "#split the columns into different columns \n",
    "column_split = df3['sensor_id;sensor_type;location;lat;lon;timestamp;value_type;value'].str.split(pat=';',expand=True)\n",
    "column_split.columns = ['sensor_id','sensor_type','location','lat','lon','timestamp','value_type','value']"
   ]
  },
  {
   "cell_type": "code",
   "execution_count": 127,
   "id": "ca88c230",
   "metadata": {},
   "outputs": [],
   "source": [
    "#split the columns into different\n",
    "df3=pd.concat([df3,column_split],axis=1)\n",
    "df3 = df3.drop('sensor_id;sensor_type;location;lat;lon;timestamp;value_type;value',axis=1)"
   ]
  },
  {
   "cell_type": "code",
   "execution_count": 128,
   "id": "61e98922",
   "metadata": {},
   "outputs": [],
   "source": [
    "#question E1 create a new column\n",
    "df3['timestamp'] = pd.to_datetime(df3['timestamp'], infer_datetime_format=True)\n",
    "df3['timestamp_new'] = df3['timestamp'].dt.floor('S')"
   ]
  },
  {
   "cell_type": "code",
   "execution_count": 129,
   "id": "bcccf725",
   "metadata": {},
   "outputs": [],
   "source": [
    "#question E2 split the columns into different\n",
    "grouped = df3.groupby(df3.value_type) \n",
    "\n",
    "df3_temperature = grouped.get_group(\"temperature\") \n",
    "df3_humidity = grouped.get_group(\"humidity\") \n",
    "df3_P1 = grouped.get_group(\"P1\") \n",
    "df3_P2 = grouped.get_group(\"P2\")"
   ]
  },
  {
   "cell_type": "code",
   "execution_count": 130,
   "id": "b5483a35",
   "metadata": {},
   "outputs": [],
   "source": [
    "#question E3 find mean mode and median\n",
    "# convert value column to numeric data type\n",
    "df3_temperature['value'] = pd.to_numeric(df3_temperature['value'])\n",
    "df3_humidity['value'] = pd.to_numeric(df3_humidity['value'])\n",
    "df3_P1['value'] = pd.to_numeric(df3_P1['value'])\n",
    "df3_P2['value'] = pd.to_numeric(df3_P2['value'])\n",
    "\n",
    "# compute median of value column\n",
    "median_temp = df3_temperature['value'].median()\n",
    "median_humidity = df3_humidity['value'].median()\n",
    "median_P1 = df3_P1['value'].median()\n",
    "median_P2 = df3_P2['value'].median()\n",
    "\n",
    "# compute mode of value column\n",
    "mode_temp = df3_temperature['value'].mode()[0]\n",
    "mode_humidity = df3_humidity['value'].mode()[0]\n",
    "mode_P1 = df3_P1['value'].mode()[0]\n",
    "mode_P2 = df3_P2['value'].mode()[0]\n",
    "\n",
    "# compute mean of value column\n",
    "mean_temp = df3_temperature['value'].mean()\n",
    "mean_humidity = df3_humidity['value'].mean()\n",
    "mean_P1 = df3_P1['value'].mean()\n",
    "mean_P2 = df3_P2['value'].mean()"
   ]
  },
  {
   "cell_type": "code",
   "execution_count": 133,
   "id": "4fc74a59",
   "metadata": {},
   "outputs": [],
   "source": [
    "#question E4 merge the grouped data frame with another\n",
    "df3_merged = df3_temperature.merge(df3_humidity,how='left', on='timestamp_new',suffixes=('_temperature', '_humidity'))\n",
    "df3_merged = df3_merged.merge(df3_P1,how='left', on='timestamp_new',suffixes=('_prev', '_P1'))\n",
    "df3_merged = df3_merged.merge(df3_P2,how='left', on='timestamp_new',suffixes=('_P1', '_P2'))\n",
    "df3_merged.to_csv('../dataset/newdata1.csv', index=False)"
   ]
  },
  {
   "cell_type": "code",
   "execution_count": 134,
   "id": "6060a46e",
   "metadata": {},
   "outputs": [
    {
     "data": {
      "text/html": [
       "<div>\n",
       "<style scoped>\n",
       "    .dataframe tbody tr th:only-of-type {\n",
       "        vertical-align: middle;\n",
       "    }\n",
       "\n",
       "    .dataframe tbody tr th {\n",
       "        vertical-align: top;\n",
       "    }\n",
       "\n",
       "    .dataframe thead th {\n",
       "        text-align: right;\n",
       "    }\n",
       "</style>\n",
       "<table border=\"1\" class=\"dataframe\">\n",
       "  <thead>\n",
       "    <tr style=\"text-align: right;\">\n",
       "      <th></th>\n",
       "      <th>value_temperature</th>\n",
       "      <th>timestamp_new</th>\n",
       "      <th>value_humidity</th>\n",
       "      <th>value_P1</th>\n",
       "      <th>value_P2</th>\n",
       "    </tr>\n",
       "  </thead>\n",
       "  <tbody>\n",
       "    <tr>\n",
       "      <th>0</th>\n",
       "      <td>14</td>\n",
       "      <td>2021-11-08 04:40:03+00:00</td>\n",
       "      <td>91</td>\n",
       "      <td>42.0</td>\n",
       "      <td>22.0</td>\n",
       "    </tr>\n",
       "    <tr>\n",
       "      <th>1</th>\n",
       "      <td>14</td>\n",
       "      <td>2021-11-08 04:42:41+00:00</td>\n",
       "      <td>92</td>\n",
       "      <td>31.0</td>\n",
       "      <td>18.0</td>\n",
       "    </tr>\n",
       "    <tr>\n",
       "      <th>2</th>\n",
       "      <td>15</td>\n",
       "      <td>2021-11-08 04:45:21+00:00</td>\n",
       "      <td>92</td>\n",
       "      <td>28.0</td>\n",
       "      <td>20.0</td>\n",
       "    </tr>\n",
       "    <tr>\n",
       "      <th>3</th>\n",
       "      <td>15</td>\n",
       "      <td>2021-11-08 04:48:01+00:00</td>\n",
       "      <td>92</td>\n",
       "      <td>16.0</td>\n",
       "      <td>14.0</td>\n",
       "    </tr>\n",
       "    <tr>\n",
       "      <th>4</th>\n",
       "      <td>15</td>\n",
       "      <td>2021-11-08 04:50:41+00:00</td>\n",
       "      <td>91</td>\n",
       "      <td>27.0</td>\n",
       "      <td>16.0</td>\n",
       "    </tr>\n",
       "  </tbody>\n",
       "</table>\n",
       "</div>"
      ],
      "text/plain": [
       "   value_temperature              timestamp_new  value_humidity  value_P1  \\\n",
       "0                 14  2021-11-08 04:40:03+00:00              91      42.0   \n",
       "1                 14  2021-11-08 04:42:41+00:00              92      31.0   \n",
       "2                 15  2021-11-08 04:45:21+00:00              92      28.0   \n",
       "3                 15  2021-11-08 04:48:01+00:00              92      16.0   \n",
       "4                 15  2021-11-08 04:50:41+00:00              91      27.0   \n",
       "\n",
       "   value_P2  \n",
       "0      22.0  \n",
       "1      18.0  \n",
       "2      20.0  \n",
       "3      14.0  \n",
       "4      16.0  "
      ]
     },
     "execution_count": 134,
     "metadata": {},
     "output_type": "execute_result"
    }
   ],
   "source": [
    "#question E5 open new data file \n",
    "df4 = pd.read_csv('../dataset/newdata1.csv',usecols=['timestamp_new','value_temperature','value_humidity','value_P1','value_P2'])\n",
    "df4.head()"
   ]
  },
  {
   "cell_type": "code",
   "execution_count": 135,
   "id": "36715492",
   "metadata": {},
   "outputs": [],
   "source": [
    "#question E6 open new data file\n",
    "missing_values = pd.isnull(df4['value_P1']) \n",
    "\n",
    "df4['value_P1'].fillna(df4['value_P1'].mean(), inplace=True) \n",
    "df4['value_P2'].fillna(df4['value_P2'].mean(), inplace=True) \n",
    "\n",
    "missing_values = pd.isnull(df4['value_P2'])"
   ]
  },
  {
   "cell_type": "code",
   "execution_count": 136,
   "id": "ca02dec1",
   "metadata": {},
   "outputs": [],
   "source": [
    "#question E7 compute the correlations \n",
    "corr_temp_humidity = df4['value_temperature'].corr(df4['value_humidity'])\n",
    "corr_p1_p2 = df4['value_P1'].corr(df4['value_P2'])"
   ]
  },
  {
   "cell_type": "code",
   "execution_count": 137,
   "id": "83958017",
   "metadata": {},
   "outputs": [],
   "source": [
    "#question E8 create a new dataframe comprising of the avarage \n",
    "df4['timestamp_new'] = pd.to_datetime(df3['timestamp_new'], infer_datetime_format=True) \n",
    "df4['timestamp_new'] = df3['timestamp_new'].dt.floor('D')"
   ]
  },
  {
   "cell_type": "code",
   "execution_count": 138,
   "id": "45dd112f",
   "metadata": {},
   "outputs": [
    {
     "data": {
      "text/html": [
       "<div>\n",
       "<style scoped>\n",
       "    .dataframe tbody tr th:only-of-type {\n",
       "        vertical-align: middle;\n",
       "    }\n",
       "\n",
       "    .dataframe tbody tr th {\n",
       "        vertical-align: top;\n",
       "    }\n",
       "\n",
       "    .dataframe thead th {\n",
       "        text-align: right;\n",
       "    }\n",
       "</style>\n",
       "<table border=\"1\" class=\"dataframe\">\n",
       "  <thead>\n",
       "    <tr style=\"text-align: right;\">\n",
       "      <th></th>\n",
       "      <th>value_temperature</th>\n",
       "      <th>value_humidity</th>\n",
       "      <th>value_P1</th>\n",
       "      <th>value_P2</th>\n",
       "    </tr>\n",
       "    <tr>\n",
       "      <th>timestamp_new</th>\n",
       "      <th></th>\n",
       "      <th></th>\n",
       "      <th></th>\n",
       "      <th></th>\n",
       "    </tr>\n",
       "  </thead>\n",
       "  <tbody>\n",
       "    <tr>\n",
       "      <th>2021-11-08 00:00:00+00:00</th>\n",
       "      <td>20.478977</td>\n",
       "      <td>70.150568</td>\n",
       "      <td>17.078165</td>\n",
       "      <td>9.280883</td>\n",
       "    </tr>\n",
       "    <tr>\n",
       "      <th>2021-11-09 00:00:00+00:00</th>\n",
       "      <td>20.333026</td>\n",
       "      <td>68.202030</td>\n",
       "      <td>16.710414</td>\n",
       "      <td>8.767726</td>\n",
       "    </tr>\n",
       "    <tr>\n",
       "      <th>2021-11-10 00:00:00+00:00</th>\n",
       "      <td>19.287124</td>\n",
       "      <td>73.015038</td>\n",
       "      <td>20.040159</td>\n",
       "      <td>11.134489</td>\n",
       "    </tr>\n",
       "    <tr>\n",
       "      <th>2021-11-11 00:00:00+00:00</th>\n",
       "      <td>20.273885</td>\n",
       "      <td>69.777070</td>\n",
       "      <td>39.380994</td>\n",
       "      <td>23.478350</td>\n",
       "    </tr>\n",
       "    <tr>\n",
       "      <th>2021-11-12 00:00:00+00:00</th>\n",
       "      <td>19.981397</td>\n",
       "      <td>74.373866</td>\n",
       "      <td>21.796416</td>\n",
       "      <td>11.760173</td>\n",
       "    </tr>\n",
       "    <tr>\n",
       "      <th>2021-11-13 00:00:00+00:00</th>\n",
       "      <td>19.385753</td>\n",
       "      <td>86.071233</td>\n",
       "      <td>12.744426</td>\n",
       "      <td>7.536570</td>\n",
       "    </tr>\n",
       "  </tbody>\n",
       "</table>\n",
       "</div>"
      ],
      "text/plain": [
       "                           value_temperature  value_humidity   value_P1  \\\n",
       "timestamp_new                                                             \n",
       "2021-11-08 00:00:00+00:00          20.478977       70.150568  17.078165   \n",
       "2021-11-09 00:00:00+00:00          20.333026       68.202030  16.710414   \n",
       "2021-11-10 00:00:00+00:00          19.287124       73.015038  20.040159   \n",
       "2021-11-11 00:00:00+00:00          20.273885       69.777070  39.380994   \n",
       "2021-11-12 00:00:00+00:00          19.981397       74.373866  21.796416   \n",
       "2021-11-13 00:00:00+00:00          19.385753       86.071233  12.744426   \n",
       "\n",
       "                            value_P2  \n",
       "timestamp_new                         \n",
       "2021-11-08 00:00:00+00:00   9.280883  \n",
       "2021-11-09 00:00:00+00:00   8.767726  \n",
       "2021-11-10 00:00:00+00:00  11.134489  \n",
       "2021-11-11 00:00:00+00:00  23.478350  \n",
       "2021-11-12 00:00:00+00:00  11.760173  \n",
       "2021-11-13 00:00:00+00:00   7.536570  "
      ]
     },
     "execution_count": 138,
     "metadata": {},
     "output_type": "execute_result"
    }
   ],
   "source": [
    "means_nov = df4.groupby('timestamp_new').mean() \n",
    "means_nov"
   ]
  },
  {
   "cell_type": "markdown",
   "id": "166ca855",
   "metadata": {},
   "source": [
    "#### Question E10: Convert the means_feb and means_nov to numpy arrays ... and then compute the average of each collumn\n",
    "\n",
    "#### Hint: The results are numpy arrays"
   ]
  },
  {
   "cell_type": "code",
   "execution_count": 139,
   "id": "269583ce",
   "metadata": {},
   "outputs": [
    {
     "data": {
      "text/plain": [
       "array([21.79315977, 65.64335563, 24.73034846,  9.79737637])"
      ]
     },
     "execution_count": 139,
     "metadata": {},
     "output_type": "execute_result"
    }
   ],
   "source": [
    "feb_numpy_array = means_feb.to_numpy()\n",
    "feb_average = np.mean(feb_numpy_array, axis = 0)\n",
    "feb_average"
   ]
  },
  {
   "cell_type": "code",
   "execution_count": 140,
   "id": "dfddfb92",
   "metadata": {},
   "outputs": [
    {
     "data": {
      "text/plain": [
       "array([19.9566939 , 73.59830066, 21.29176235, 11.99303197])"
      ]
     },
     "execution_count": 140,
     "metadata": {},
     "output_type": "execute_result"
    }
   ],
   "source": [
    "nov_numpy_array = means_nov.to_numpy()\n",
    "nov_average = np.mean(nov_numpy_array, axis = 0)\n",
    "nov_average"
   ]
  },
  {
   "cell_type": "code",
   "execution_count": 141,
   "id": "997c5f02",
   "metadata": {},
   "outputs": [
    {
     "name": "stdout",
     "output_type": "stream",
     "text": [
      "[-1.8364658682071138, 7.9549450273989635, -3.4385861058352454, 2.195655593251745]\n"
     ]
    }
   ],
   "source": [
    "def sub():\n",
    "    diff = []\n",
    "    for i in range(len(nov_average)):\n",
    "        result = nov_average[i] - feb_average[i]\n",
    "        diff.append(result)\n",
    "   \n",
    "    return diff\n",
    " \n",
    "# Print the result of the subtraction\n",
    "difference = sub()\n",
    "print(difference)"
   ]
  },
  {
   "cell_type": "code",
   "execution_count": null,
   "id": "e2c5f720",
   "metadata": {},
   "outputs": [],
   "source": []
  }
 ],
 "metadata": {
  "kernelspec": {
   "display_name": "Python 3 (ipykernel)",
   "language": "python",
   "name": "python3"
  },
  "language_info": {
   "codemirror_mode": {
    "name": "ipython",
    "version": 3
   },
   "file_extension": ".py",
   "mimetype": "text/x-python",
   "name": "python",
   "nbconvert_exporter": "python",
   "pygments_lexer": "ipython3",
   "version": "3.10.9"
  }
 },
 "nbformat": 4,
 "nbformat_minor": 5
}
